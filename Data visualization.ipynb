{
    "cells": [
        {
            "cell_type": "code",
            "execution_count": null,
            "metadata": {},
            "outputs": [],
            "source": "import pandas as pd\ndf=pd.read_csv('https://cocl.us/datascience_survey_data')\ndf.head()\ndf.columns = ['Topics','Very Interested','Somewhat Interested','Not Interested']\ndf.head()"
        },
        {
            "cell_type": "code",
            "execution_count": null,
            "metadata": {},
            "outputs": [],
            "source": "dfsorted['Very Interested']=round((dfsorted['Very Interested'] / 2233)*100,2)\ndfsorted['Somewhat Interested']=round((dfsorted['Somewhat Interested'] / 2233)*100,2)\ndfsorted['Not Interested']=round((dfsorted['Not Interested'] / 2233)*100,2)\ndfsorted\n\nimport matplotlib as mpl\nimport matplotlib.pyplot as plt\nax = dfsorted.plot(kind='bar', alpha=0.35, figsize=(20, 8),width=0.8, color=['#5cb85c', '#5bc0de', '#d9534f'])\n\nax.set_title('Percentage of Respondents Interest in Data Science Area',fontsize=14)\nax.set_ylabel('Number')\nax.set_xlabel('Topics')\nax.legend(fontsize = 14)\nax.set_frame_on(False)\nax.set_xlabel(False).set_visible(False)\nax.axes.get_yaxis().set_visible(False)\nax.set_xticklabels(('Data Analysis / Statistics','Machine Learning','Data Visualization','Big Data (Spark / Hadoop)','Deep Learning','Data Journalism'))"
        },
        {
            "cell_type": "code",
            "execution_count": null,
            "metadata": {},
            "outputs": [],
            "source": "import pandas as pd\nimport numpy as np\ndf1=pd.read_csv('https://cocl.us/sanfran_crime_dataset')\ndf1.drop(['Category','Descript','DayOfWeek','Date','Time','Resolution','Address','X','Y','Location','PdId'], axis=1, inplace=True)\ndf1.rename(columns={'IncidntNum':'Count', 'PdDistrict':'Neighborhood'}, inplace=True)\ndf1.columns=list(map(str,df1.columns))\ndf1.set_index('Neighborhood',inplace=True)\ndf1.sort_values('Count',ascending=False)\ndf1=df1.groupby('Neighborhood').count()\ndf1.reset_index(inplace=True)\ndf1\n"
        },
        {
            "cell_type": "code",
            "execution_count": null,
            "metadata": {},
            "outputs": [],
            "source": "import json\n!conda install -c conda-forge folium=0.5.0 --yes\nimport folium\nprint('Folium installed and imported!')\nfrom folium import plugins\n!wget --quiet https://cocl.us/sanfran_geojson -O world_countries.json\nprint('GeoJSON file downloaded!')"
        },
        {
            "cell_type": "code",
            "execution_count": null,
            "metadata": {},
            "outputs": [],
            "source": "\n\nworld_geo = r'world_countries.json'\n\nlatitude = 37.77\nlongitude = -122.42\n\nworld_map = folium.Map(location=[latitude,longitude], zoom_start=12)\nworld_map.choropleth(\n    geo_data=world_geo,\n    data=df1,\n    columns=['Neighborhood', 'Count'],\n    key_on='feature.properties.DISTRICT',\n    fill_color='YlOrRd', \n    fill_opacity=0.7, \n    line_opacity=0.2,\n    legend_name='San Francisco Crime Rate'\n    \n)\nworld_map"
        },
        {
            "cell_type": "code",
            "execution_count": null,
            "metadata": {},
            "outputs": [],
            "source": ""
        }
    ],
    "metadata": {
        "kernelspec": {
            "display_name": "Python 3.6",
            "language": "python",
            "name": "python3"
        },
        "language_info": {
            "codemirror_mode": {
                "name": "ipython",
                "version": 3
            },
            "file_extension": ".py",
            "mimetype": "text/x-python",
            "name": "python",
            "nbconvert_exporter": "python",
            "pygments_lexer": "ipython3",
            "version": "3.6.9"
        }
    },
    "nbformat": 4,
    "nbformat_minor": 1
}