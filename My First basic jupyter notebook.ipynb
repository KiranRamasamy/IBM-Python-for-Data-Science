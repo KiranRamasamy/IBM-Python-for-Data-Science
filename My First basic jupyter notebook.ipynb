{
    "cells": [
        {
            "cell_type": "markdown",
            "metadata": {},
            "source": "# My Jupyter Notebook on IBM Watson Studio"
        },
        {
            "cell_type": "markdown",
            "metadata": {},
            "source": " <b> Kiran </b> <br></br>\n Student"
        },
        {
            "cell_type": "markdown",
            "metadata": {
                "collapsed": true
            },
            "source": "<i> I am interested in data science because of the increasing demand for data around the world </i>"
        },
        {
            "cell_type": "markdown",
            "metadata": {},
            "source": "### The code prints my full name"
        },
        {
            "cell_type": "markdown",
            "metadata": {},
            "source": "print(\"Kiran Ramasamy\")"
        },
        {
            "cell_type": "markdown",
            "metadata": {},
            "source": "* Sunday <br>\n* Monday <br>\n* Tuesday <br>\n* Wednesday <br>\n* Thursday <br>\n* Friday <br>\n* Saturday <br>\n\n<a>www.ibm.com</a>\n\n\n|S.no | Fruit  |\n|---|---|\n|   1  | Apple  |\n|   2  | Banana |\n|   3  | Strawberry |"
        },
        {
            "cell_type": "code",
            "execution_count": null,
            "metadata": {},
            "outputs": [],
            "source": ""
        },
        {
            "cell_type": "code",
            "execution_count": null,
            "metadata": {},
            "outputs": [],
            "source": ""
        }
    ],
    "metadata": {
        "kernelspec": {
            "display_name": "Python 3.6",
            "language": "python",
            "name": "python3"
        },
        "language_info": {
            "codemirror_mode": {
                "name": "ipython",
                "version": 3
            },
            "file_extension": ".py",
            "mimetype": "text/x-python",
            "name": "python",
            "nbconvert_exporter": "python",
            "pygments_lexer": "ipython3",
            "version": "3.6.9"
        }
    },
    "nbformat": 4,
    "nbformat_minor": 1
}